{
  "nbformat": 4,
  "nbformat_minor": 0,
  "metadata": {
    "colab": {
      "name": "Copia de arap_2020_lab_5_gcn_todo.ipynb",
      "provenance": [],
      "collapsed_sections": [
        "tFvFU6xnMazT",
        "sb64LkymNuw0",
        "rdBuABk6wUVE"
      ],
      "include_colab_link": true
    },
    "kernelspec": {
      "name": "python3",
      "display_name": "Python 3"
    },
    "accelerator": "GPU"
  },
  "cells": [
    {
      "cell_type": "markdown",
      "metadata": {
        "id": "view-in-github",
        "colab_type": "text"
      },
      "source": [
        "<a href=\"https://colab.research.google.com/github/jordivg1/ARAP/blob/main/Arap_2020_lab_5_gcn_todo.ipynb\" target=\"_parent\"><img src=\"https://colab.research.google.com/assets/colab-badge.svg\" alt=\"Open In Colab\"/></a>"
      ]
    },
    {
      "cell_type": "markdown",
      "metadata": {
        "id": "_sCPCyEgzl4d"
      },
      "source": [
        "# Graph Convolutional Neural Networks\n",
        "\n",
        "\n",
        "In this notebook will learn about Graph Convolutional Neural Networks by implementing a simple GCN to classify the nodes of a graph.\n",
        "\n",
        "**Important:** Set the Colab environment to run on GPU\n",
        "\n",
        "**Notebook created by Paula Gómez Duran**\n"
      ]
    },
    {
      "cell_type": "markdown",
      "metadata": {
        "id": "iHcRKrNEbGNk"
      },
      "source": [
        "## **Installation . . .**"
      ]
    },
    {
      "cell_type": "code",
      "metadata": {
        "id": "PeL_71l3anuS",
        "colab": {
          "base_uri": "https://localhost:8080/"
        },
        "outputId": "8d48480d-58fc-4748-d11e-6d141a28017a"
      },
      "source": [
        "%tensorflow_version 1.x\n",
        "import torch\n",
        "if not torch.cuda.is_available():\n",
        "    raise Exception(\"You should enable GPU runtime\")"
      ],
      "execution_count": 1,
      "outputs": [
        {
          "output_type": "stream",
          "text": [
            "TensorFlow 1.x selected.\n"
          ],
          "name": "stdout"
        }
      ]
    },
    {
      "cell_type": "code",
      "metadata": {
        "id": "y_u6Sbt3lR-h",
        "colab": {
          "base_uri": "https://localhost:8080/"
        },
        "outputId": "aecd0953-288a-49b5-af94-676accfbdcf0"
      },
      "source": [
        "!pip install -q torch-scatter==latest+cu101 -f https://pytorch-geometric.com/whl/torch-1.7.0.html\n",
        "!pip install -q torch-sparse==latest+cu101 -f https://pytorch-geometric.com/whl/torch-1.7.0.html\n",
        "!pip install -q git+https://github.com/rusty1s/pytorch_geometric.git"
      ],
      "execution_count": 2,
      "outputs": [
        {
          "output_type": "stream",
          "text": [
            "  Building wheel for torch-geometric (setup.py) ... \u001b[?25l\u001b[?25hdone\n"
          ],
          "name": "stdout"
        }
      ]
    },
    {
      "cell_type": "markdown",
      "metadata": {
        "id": "tFvFU6xnMazT"
      },
      "source": [
        "## **Understanding GCN concept by building a simple graph . . .**\n",
        "\n",
        "<div>\n",
        "<center><img src=\"https://miro.medium.com/max/864/1*jTW7doI_cqC_p9XQrmuu9A.png\" width=\"400\"/></center>\n",
        "</div>"
      ]
    },
    {
      "cell_type": "markdown",
      "metadata": {
        "id": "nPR4n8eZNJSj"
      },
      "source": [
        "### Defining the graph and it's features\n",
        "\n",
        "So, we build the adjacency matrix A from the previous figure:"
      ]
    },
    {
      "cell_type": "code",
      "metadata": {
        "id": "cJ8ERA93MaLF"
      },
      "source": [
        "import numpy as np\n",
        "#############################\n",
        "# Exercice 1: Complete the last two rows of the matrix. Will or will not be symmetric matrix?\n",
        "#############################\n",
        "A = np.matrix([\n",
        "    [0, 1, 0, 0],\n",
        "    [0, 0, 1, 1], \n",
        "    [0, 1, 0, 0],\n",
        "    [1, 0, 1, 0]],\n",
        "    dtype=float\n",
        ")"
      ],
      "execution_count": 3,
      "outputs": []
    },
    {
      "cell_type": "markdown",
      "metadata": {
        "id": "cD7CuBZLNSeN"
      },
      "source": [
        "Now, we generate 2 features for each node based on the index. This makes it easy to confirm the matrix calculations manually later."
      ]
    },
    {
      "cell_type": "code",
      "metadata": {
        "id": "aX1OI2YLMaaM",
        "colab": {
          "base_uri": "https://localhost:8080/"
        },
        "outputId": "083dbba0-6a5a-4c54-bfab-4f83aa008367"
      },
      "source": [
        "X = np.matrix([\n",
        "            [i, -i]\n",
        "            for i in range(A.shape[0])\n",
        "        ], dtype=float)\n",
        "X"
      ],
      "execution_count": 4,
      "outputs": [
        {
          "output_type": "execute_result",
          "data": {
            "text/plain": [
              "matrix([[ 0.,  0.],\n",
              "        [ 1., -1.],\n",
              "        [ 2., -2.],\n",
              "        [ 3., -3.]])"
            ]
          },
          "metadata": {
            "tags": []
          },
          "execution_count": 4
        }
      ]
    },
    {
      "cell_type": "markdown",
      "metadata": {
        "id": "sb64LkymNuw0"
      },
      "source": [
        "### Applying the simple propagation rule for the input layer:\n",
        "\n",
        "Now we will try to implement the layer equation defined in theory. To make it easier, we will ommit the normalization part, as it is implicit in the implementation of the model from Pytorch Geometric that we will use and it is not necessary to get the intuition of how GCN works.\n",
        "\n",
        "\n",
        "### ` f(Hⁱ, A) = σ(A Hⁱ Wⁱ) `\n",
        "\n",
        "*   H⁰ = X = input features\n",
        "*   AH⁰W⁰ = AXW⁰ = AX\n",
        "*   W = I\n",
        "\n",
        "\n",
        "\n",
        "\n"
      ]
    },
    {
      "cell_type": "code",
      "metadata": {
        "id": "7T9Z-KW5W5Vc"
      },
      "source": [
        "H_0 = X "
      ],
      "execution_count": 5,
      "outputs": []
    },
    {
      "cell_type": "code",
      "metadata": {
        "id": "sgLS-8DKW_Lh"
      },
      "source": [
        "W = np.identity(2)"
      ],
      "execution_count": 6,
      "outputs": []
    },
    {
      "cell_type": "code",
      "metadata": {
        "id": "HAo1Tq_-NOFd",
        "colab": {
          "base_uri": "https://localhost:8080/"
        },
        "outputId": "0731d548-f5a8-4fe7-d289-65e451062fec"
      },
      "source": [
        "H_1 = A * H_0 * W\n",
        "H_1"
      ],
      "execution_count": 7,
      "outputs": [
        {
          "output_type": "execute_result",
          "data": {
            "text/plain": [
              "matrix([[ 1., -1.],\n",
              "        [ 5., -5.],\n",
              "        [ 1., -1.],\n",
              "        [ 2., -2.]])"
            ]
          },
          "metadata": {
            "tags": []
          },
          "execution_count": 7
        }
      ]
    },
    {
      "cell_type": "markdown",
      "metadata": {
        "id": "oAj8_j7IPlzl"
      },
      "source": [
        "As you can observe, the representation of each node (each row) is now a sum of its neighbors features! \n",
        "\n",
        "In other words, the graph convolutional layer represents each node as an aggregate of its neighborhood, as we saw on theory slides."
      ]
    },
    {
      "cell_type": "code",
      "metadata": {
        "id": "kzKee-LSa71e",
        "colab": {
          "base_uri": "https://localhost:8080/"
        },
        "outputId": "06060b7e-8261-4e3a-b597-7e974caabde6"
      },
      "source": [
        "for i in range(1000):\n",
        "    X = A * X * W\n",
        "print(X)"
      ],
      "execution_count": 8,
      "outputs": [
        {
          "output_type": "stream",
          "text": [
            "[[ 2.27849866e+182 -2.27849866e+182]\n",
            " [ 3.46646163e+182 -3.46646163e+182]\n",
            " [ 2.27849866e+182 -2.27849866e+182]\n",
            " [ 2.99530571e+182 -2.99530571e+182]]\n"
          ],
          "name": "stdout"
        }
      ]
    },
    {
      "cell_type": "markdown",
      "metadata": {
        "id": "Mu4u-0B-iLNG"
      },
      "source": [
        "### Adding self loops\n",
        "\n",
        "If you look carefuly to the previous representation of each node after the popagation rule, the node itself is not taken into account. Thus, that is the reason why we need to add self loops to the adjacency matrix, conforming the Â matrix.\n"
      ]
    },
    {
      "cell_type": "code",
      "metadata": {
        "id": "jWW3-f4Bh7li",
        "colab": {
          "base_uri": "https://localhost:8080/"
        },
        "outputId": "993a6e0a-e715-47d1-8ed0-86789d673793"
      },
      "source": [
        "#############################\n",
        "# Exercice 2: Build identity matrix I using np.identity() \n",
        "#             Sum I with A matrix to build Â\n",
        "#############################\n",
        "\n",
        "I  = np.identity(A.shape[0])\n",
        "I"
      ],
      "execution_count": 9,
      "outputs": [
        {
          "output_type": "execute_result",
          "data": {
            "text/plain": [
              "array([[1., 0., 0., 0.],\n",
              "       [0., 1., 0., 0.],\n",
              "       [0., 0., 1., 0.],\n",
              "       [0., 0., 0., 1.]])"
            ]
          },
          "metadata": {
            "tags": []
          },
          "execution_count": 9
        }
      ]
    },
    {
      "cell_type": "code",
      "metadata": {
        "id": "frBdysYdhqtr",
        "colab": {
          "base_uri": "https://localhost:8080/"
        },
        "outputId": "adbc7f1f-9d28-4837-d90f-73bfb7c1ed34"
      },
      "source": [
        "A_hat = A + I\n",
        "A_hat"
      ],
      "execution_count": 10,
      "outputs": [
        {
          "output_type": "execute_result",
          "data": {
            "text/plain": [
              "matrix([[1., 1., 0., 0.],\n",
              "        [0., 1., 1., 1.],\n",
              "        [0., 1., 1., 0.],\n",
              "        [1., 0., 1., 1.]])"
            ]
          },
          "metadata": {
            "tags": []
          },
          "execution_count": 10
        }
      ]
    },
    {
      "cell_type": "code",
      "metadata": {
        "id": "kVQQd5p8iqcQ",
        "colab": {
          "base_uri": "https://localhost:8080/"
        },
        "outputId": "7b155558-5806-402d-ac7e-a788180520be"
      },
      "source": [
        "# Now run again the GCN equation and observe the new output\n",
        "H_1 = A_hat * H_0 * W\n",
        "H_1"
      ],
      "execution_count": 11,
      "outputs": [
        {
          "output_type": "execute_result",
          "data": {
            "text/plain": [
              "matrix([[ 1., -1.],\n",
              "        [ 6., -6.],\n",
              "        [ 3., -3.],\n",
              "        [ 5., -5.]])"
            ]
          },
          "metadata": {
            "tags": []
          },
          "execution_count": 11
        }
      ]
    },
    {
      "cell_type": "markdown",
      "metadata": {
        "id": "BX1AbF7PBumV"
      },
      "source": [
        "As you observe, now we have taken into account the node itself when computing the aggregation of local neightbours by A * X."
      ]
    },
    {
      "cell_type": "markdown",
      "metadata": {
        "id": "aJANCxZ9oWne"
      },
      "source": [
        "### Why do we need to normalize?\n",
        "\n",
        "\n"
      ]
    },
    {
      "cell_type": "markdown",
      "metadata": {
        "id": "ZzPjFygeqoaJ"
      },
      "source": [
        "Here we intent to show what happens without normalizing. Then, we will show whats the same output when applying normalization.\n",
        "\n",
        "> So, lets try to apply the GCN equation for 1000 epochs:"
      ]
    },
    {
      "cell_type": "code",
      "metadata": {
        "id": "vIumSflknxr_",
        "colab": {
          "base_uri": "https://localhost:8080/"
        },
        "outputId": "eaf44864-fa9e-459a-ed95-81da8fde7b56"
      },
      "source": [
        "H_n = H_1\n",
        "for i in range(1000):\n",
        "    H_n = A_hat * H_n * W\n",
        "\n",
        "print(H_n)"
      ],
      "execution_count": 12,
      "outputs": [
        {
          "output_type": "stream",
          "text": [
            "[[nan nan]\n",
            " [nan nan]\n",
            " [nan nan]\n",
            " [nan nan]]\n"
          ],
          "name": "stdout"
        }
      ]
    },
    {
      "cell_type": "markdown",
      "metadata": {
        "id": "_CUsqSu7vPJi"
      },
      "source": [
        "WHY DO YOU THINK IT HAPPENS?"
      ]
    },
    {
      "cell_type": "markdown",
      "metadata": {
        "id": "OwqZOx7JrLzV"
      },
      "source": [
        "> You can observe that the output features for epoch 1000 are nan... So, let's try to normalize before and repeat the operation."
      ]
    },
    {
      "cell_type": "code",
      "metadata": {
        "id": "1sNBE1Z4odxJ",
        "colab": {
          "base_uri": "https://localhost:8080/"
        },
        "outputId": "3fca979e-89c4-4d3f-8fd8-35b1e306ae40"
      },
      "source": [
        "A_hat"
      ],
      "execution_count": 13,
      "outputs": [
        {
          "output_type": "execute_result",
          "data": {
            "text/plain": [
              "matrix([[1., 1., 0., 0.],\n",
              "        [0., 1., 1., 1.],\n",
              "        [0., 1., 1., 0.],\n",
              "        [1., 0., 1., 1.]])"
            ]
          },
          "metadata": {
            "tags": []
          },
          "execution_count": 13
        }
      ]
    },
    {
      "cell_type": "code",
      "metadata": {
        "id": "R6UOQAEypF57",
        "colab": {
          "base_uri": "https://localhost:8080/"
        },
        "outputId": "7867a4a6-094b-4def-c314-00757caafd92"
      },
      "source": [
        "D = np.array(A_hat.sum(1))\n",
        "D"
      ],
      "execution_count": 14,
      "outputs": [
        {
          "output_type": "execute_result",
          "data": {
            "text/plain": [
              "array([[2.],\n",
              "       [3.],\n",
              "       [2.],\n",
              "       [3.]])"
            ]
          },
          "metadata": {
            "tags": []
          },
          "execution_count": 14
        }
      ]
    },
    {
      "cell_type": "code",
      "metadata": {
        "id": "aVzhrzHZpyLU",
        "colab": {
          "base_uri": "https://localhost:8080/"
        },
        "outputId": "0773ace0-5059-4ec9-ea93-8d6fbbbc7b76"
      },
      "source": [
        "D_inv_half = np.power(D, -0.5).flatten()\n",
        "D_mat = np.diag(D_inv_half)\n",
        "# SYMMETRIC NORMALIZATION = D^-1/2 * (H) * D^-1/2\n",
        "aux = D_mat.dot(A_hat)\n",
        "norm_A_hat = aux.dot(D_mat)\n",
        "norm_A_hat"
      ],
      "execution_count": 15,
      "outputs": [
        {
          "output_type": "execute_result",
          "data": {
            "text/plain": [
              "matrix([[0.5       , 0.40824829, 0.        , 0.        ],\n",
              "        [0.        , 0.33333333, 0.40824829, 0.33333333],\n",
              "        [0.        , 0.40824829, 0.5       , 0.        ],\n",
              "        [0.40824829, 0.        , 0.40824829, 0.33333333]])"
            ]
          },
          "metadata": {
            "tags": []
          },
          "execution_count": 15
        }
      ]
    },
    {
      "cell_type": "code",
      "metadata": {
        "id": "Y1Z5_OrcbSIF",
        "colab": {
          "base_uri": "https://localhost:8080/"
        },
        "outputId": "3178df36-be80-435b-f133-ad76b8b68e4e"
      },
      "source": [
        "H_1_norm = norm_A_hat * H_0 * W\n",
        "H_1_norm"
      ],
      "execution_count": 16,
      "outputs": [
        {
          "output_type": "execute_result",
          "data": {
            "text/plain": [
              "matrix([[ 0.40824829, -0.40824829],\n",
              "        [ 2.14982991, -2.14982991],\n",
              "        [ 1.40824829, -1.40824829],\n",
              "        [ 1.81649658, -1.81649658]])"
            ]
          },
          "metadata": {
            "tags": []
          },
          "execution_count": 16
        }
      ]
    },
    {
      "cell_type": "code",
      "metadata": {
        "id": "FpcQUWqOn2QI",
        "colab": {
          "base_uri": "https://localhost:8080/"
        },
        "outputId": "36bdaf6f-983e-4477-f88b-4e4a13d031cc"
      },
      "source": [
        "H_n = H_1_norm\n",
        "for i in range(1000):\n",
        "    H_n = norm_A_hat * H_n * W\n",
        "\n",
        "print(H_n)"
      ],
      "execution_count": 17,
      "outputs": [
        {
          "output_type": "stream",
          "text": [
            "[[ 1.42632051 -1.42632051]\n",
            " [ 1.74687873 -1.74687873]\n",
            " [ 1.42632051 -1.42632051]\n",
            " [ 1.74687873 -1.74687873]]\n"
          ],
          "name": "stdout"
        }
      ]
    },
    {
      "cell_type": "markdown",
      "metadata": {
        "id": "MvilX2FNrZ3F"
      },
      "source": [
        "> Now, as you observe we still can get good results after iterating for 1000 epochs. \n",
        "\n",
        "\n",
        "The explanation is that normalizing avoid numbers to be higher than one in all the multiplications, and so we need to do it in order to solve possible problems such as exploding gradients or having weights which are too big."
      ]
    },
    {
      "cell_type": "markdown",
      "metadata": {
        "id": "rdBuABk6wUVE"
      },
      "source": [
        "## **Moving to a real challenge . . .**\n",
        "\n",
        "Now, we will explore how to solve a classification problem with GCN. \n"
      ]
    },
    {
      "cell_type": "markdown",
      "metadata": {
        "id": "9GQiPS4vQDri"
      },
      "source": [
        "\n",
        "\n",
        "The task that we will solve is based on **Cora dataset** ( [link here](https://relational.fit.cvut.cz/dataset/CORA) ), which consists of 2708 scientific publications classified into seven classes:\n",
        "\n",
        "\t\tCase_Based\n",
        "\t\tGenetic_Algorithms\n",
        "\t\tNeural_Networks\n",
        "\t\tProbabilistic_Methods\n",
        "\t\tReinforcement_Learning\n",
        "\t\tRule_Learning\n",
        "\t\tTheory\n",
        "\n",
        "The papers were selected in a way such that every paper cites or is cited by atleast one other paper. The citation network consists of 5429 links which represents the edge of the graph. Therefore, we can assume that the data is describing in a graph structure.\n",
        "\n",
        "Besides, the dataset also provides a 0/1-valued word vector for each of the papers which indicates the absence/presence of each corresponding word from the dictionary, which has a lenght of 1433 positions.\n",
        "\n",
        "So, as features of each node we will have a vector of binary values indicating whether each word in the vocabulary is present (indicated by 1) or absent (indicated by 0) in the paper. I have put an example here for a better understanding of the concept:\n",
        "\n",
        "\n",
        "<div>\n",
        "<center><img src=\"https://miro.medium.com/max/906/1*f5e9vn4EZB8zNSLWO0dn-A.png\"/></center>\n",
        "</div>\n",
        "\n",
        "\n",
        "So, assuming that the dictionary consists in those words (awesome, funny, hate, it ...), we would have for each of the papers (0, 1, 2, 3 in the example above), a 1 value in those positions where the corresponding word was present.\n",
        "\n",
        "\n",
        "> **About dictionary:** After stemming and removing stopwords we were left with a vocabulary of size 1433 unique words. All words with document frequency less than 10 were removed.\n",
        "\n",
        "\n",
        "Finally, they also provide labels for each of the papers which corresponds to a category that indicates the class of which the paper has been classified on.\n",
        "\n",
        " &nbsp;\n",
        "\n",
        "**The goal is to classify each document into one of the seven classes**. In order to make it easier when working with graphs we will use the library **Pytorch Geometric**. You can find the documentation [here](https://pytorch-geometric.readthedocs.io/en/latest/) and it's github page [here](https://github.com/rusty1s/pytorch_geometric).\n",
        "\n",
        " &nbsp;\n",
        " "
      ]
    },
    {
      "cell_type": "markdown",
      "metadata": {
        "id": "nGJ2Lyqa8GbG"
      },
      "source": [
        "Now, we are going to import [**Tensorboard**](https://www.tensorflow.org/tensorboard/get_started), which is a tool for providing the measurements and visualizations needed during the machine learning workflow. It is very easy to use and it will allow us to see straightforward the behaviour of our network."
      ]
    },
    {
      "cell_type": "code",
      "metadata": {
        "id": "aAUPGJrHXqfM",
        "colab": {
          "base_uri": "https://localhost:8080/"
        },
        "outputId": "6ac4a6a1-f72b-412e-9acc-dff3dcdba933"
      },
      "source": [
        "%tensorflow_version 1.x\n",
        "from tensorboardcolab import TensorBoardColab\n",
        "tbc = TensorBoardColab()"
      ],
      "execution_count": 18,
      "outputs": [
        {
          "output_type": "stream",
          "text": [
            "Using TensorFlow backend.\n"
          ],
          "name": "stderr"
        },
        {
          "output_type": "stream",
          "text": [
            "Wait for 8 seconds...\n",
            "TensorBoard link:\n",
            "https://d4896339c0a7.ngrok.io\n"
          ],
          "name": "stdout"
        }
      ]
    },
    {
      "cell_type": "markdown",
      "metadata": {
        "id": "nyCVAY9ATbOx"
      },
      "source": [
        "Prepare the necessary imports:"
      ]
    },
    {
      "cell_type": "code",
      "metadata": {
        "id": "0X3R9ymWQTAu"
      },
      "source": [
        "# Write code for imports\n",
        "import os.path as osp\n",
        "import argparse\n",
        "import numpy as np\n",
        "\n",
        "import torch\n",
        "import torch.nn.functional as F\n",
        "import torch.nn as nn\n",
        "from torch_geometric.datasets import Planetoid\n",
        "import torch_geometric.transforms as T\n",
        "from torch_geometric.nn import GCNConv, ChebConv  \n",
        "device = torch.device(\"cuda\")"
      ],
      "execution_count": 33,
      "outputs": []
    },
    {
      "cell_type": "markdown",
      "metadata": {
        "id": "B7Pja2eNYQBx"
      },
      "source": [
        "\n",
        "\n",
        "Pytorch Geometric already implements **Planetoid** class, which loads **Cora** dataset into a very useful way for using GCN. Let's take a look!"
      ]
    },
    {
      "cell_type": "code",
      "metadata": {
        "id": "Flr8-B7OQTJ4",
        "colab": {
          "base_uri": "https://localhost:8080/"
        },
        "outputId": "cbd0444f-fc1e-4e1d-c807-79a82b693204"
      },
      "source": [
        "dataset_name = 'Cora'\n",
        "path = osp.join(osp.dirname(osp.realpath('coradataset')), 'data', dataset_name)\n",
        "# NormalizeFeatures --> Row-normalizes node features to sum-up to one.\n",
        "dataset = Planetoid(path, dataset_name, transform=T.NormalizeFeatures())\n",
        "dataset"
      ],
      "execution_count": 20,
      "outputs": [
        {
          "output_type": "execute_result",
          "data": {
            "text/plain": [
              "Cora()"
            ]
          },
          "metadata": {
            "tags": []
          },
          "execution_count": 20
        }
      ]
    },
    {
      "cell_type": "code",
      "metadata": {
        "id": "fhA3bTHTQTRQ",
        "colab": {
          "base_uri": "https://localhost:8080/"
        },
        "outputId": "53c0e3a1-2dbc-422d-bf0a-d9d23cc420f7"
      },
      "source": [
        "# Write code for visualizing dataset object\n",
        "data = dataset[0]\n",
        "data"
      ],
      "execution_count": 21,
      "outputs": [
        {
          "output_type": "execute_result",
          "data": {
            "text/plain": [
              "Data(edge_index=[2, 10556], test_mask=[2708], train_mask=[2708], val_mask=[2708], x=[2708, 1433], y=[2708])"
            ]
          },
          "metadata": {
            "tags": []
          },
          "execution_count": 21
        }
      ]
    },
    {
      "cell_type": "code",
      "metadata": {
        "id": "SEKsG6w0STNO",
        "colab": {
          "base_uri": "https://localhost:8080/"
        },
        "outputId": "4f651db0-5abd-47c3-d9ea-7ff070dc1086"
      },
      "source": [
        "dataset\n"
      ],
      "execution_count": 22,
      "outputs": [
        {
          "output_type": "execute_result",
          "data": {
            "text/plain": [
              "Cora()"
            ]
          },
          "metadata": {
            "tags": []
          },
          "execution_count": 22
        }
      ]
    },
    {
      "cell_type": "markdown",
      "metadata": {
        "id": "WhA2RH_6nONW"
      },
      "source": [
        "#### Understanding data...\n",
        "\n",
        "As we previously said, Cora dataset contains bag-of-words representation of documents and citation links between the documents. Just above we can observe the attributs of the [*InMemoryDataset (Planetoid)*](https://pytorch-geometric.readthedocs.io/en/latest/_modules/torch_geometric/datasets/planetoid.html#Planetoid) class from Pytorch Geometric library that will help us. Let's analyse each of them!\n",
        "\n",
        "&nbsp;\n",
        "\n",
        "We will treat the bag-of-words vectors as feature vectors **X**. As we can observe, the shape of *X* is the number of nodes on the rows and the lenght of the dicctonaty on the columns. So, we have a matrix which contains a feature vector for each of the nodes (one representation in each row).\n"
      ]
    },
    {
      "cell_type": "code",
      "metadata": {
        "id": "4dI-ozkMh7hw",
        "colab": {
          "base_uri": "https://localhost:8080/"
        },
        "outputId": "34cb813f-4d3d-4758-d35c-a4bced9f1387"
      },
      "source": [
        "#############################\n",
        "# Exercice 3: Write code for visualizing the shape of the input node features[Num_nodes, Dicctionary lenght]\n",
        "#             TIP: take into account that `dataset` variable is different from `data` object. You might want to check on `data`.            \n",
        "#############################\n",
        "\n",
        "data.x.shape\n"
      ],
      "execution_count": 23,
      "outputs": [
        {
          "output_type": "execute_result",
          "data": {
            "text/plain": [
              "torch.Size([2708, 1433])"
            ]
          },
          "metadata": {
            "tags": []
          },
          "execution_count": 23
        }
      ]
    },
    {
      "cell_type": "code",
      "metadata": {
        "id": "l3wCxpEj6OhU",
        "colab": {
          "base_uri": "https://localhost:8080/"
        },
        "outputId": "d38aeb51-21fc-4559-e8bd-3c8ef7c73202"
      },
      "source": [
        "# Visualize first feature vector (feature of node 0)\n",
        "\n",
        "data.x[0]"
      ],
      "execution_count": 24,
      "outputs": [
        {
          "output_type": "execute_result",
          "data": {
            "text/plain": [
              "tensor([0., 0., 0.,  ..., 0., 0., 0.])"
            ]
          },
          "metadata": {
            "tags": []
          },
          "execution_count": 24
        }
      ]
    },
    {
      "cell_type": "markdown",
      "metadata": {
        "id": "Nw_LxN6vx5B4"
      },
      "source": [
        "To construct the graph, we need to build the adjacency matrix *A* based on the citation links: if document *i* cites *j*, then we set *aij* = *aji* = 1. However, Pytorch Geometric gives us those relationships in the *edge_index* variable, which denotes each of the positive interactions of A. \n",
        "\n",
        "To make it clear, **A** will have shape (2708, 2708) in order to have both in rows and in columns all the nodes and so be able to set to 1 those positions where document *i* cited document *j*. The next variable **edge_index** will refer to all the positions set to one: \n",
        "\n",
        "      node 0 - node 633\n",
        "      node 0 - node 1862\n",
        "      node 0 - node 2582\n",
        "              .\n",
        "              .\n",
        "              .\n",
        "     node 2707 - node 1473\n",
        "     node 2707 - node 2706\n",
        "\n"
      ]
    },
    {
      "cell_type": "code",
      "metadata": {
        "id": "YV_IfmnWntgV",
        "colab": {
          "base_uri": "https://localhost:8080/"
        },
        "outputId": "7f2fdaad-b66d-47db-dba9-1317d898cefd"
      },
      "source": [
        "# Print edge_index variable \n",
        "data.edge_index"
      ],
      "execution_count": 25,
      "outputs": [
        {
          "output_type": "execute_result",
          "data": {
            "text/plain": [
              "tensor([[   0,    0,    0,  ..., 2707, 2707, 2707],\n",
              "        [ 633, 1862, 2582,  ...,  598, 1473, 2706]])"
            ]
          },
          "metadata": {
            "tags": []
          },
          "execution_count": 25
        }
      ]
    },
    {
      "cell_type": "markdown",
      "metadata": {
        "id": "19VOJd8mlLR7"
      },
      "source": [
        "If we check with how many nodes (papers) is related a given paper, we can observe that still there is a lot more which with it is not related. Thus, the matrix **A** will be a sparse matrix, which is basically a matrix contaning a lot of zeros. \n"
      ]
    },
    {
      "cell_type": "code",
      "metadata": {
        "id": "E4TMSyCW9fdV",
        "colab": {
          "base_uri": "https://localhost:8080/"
        },
        "outputId": "095f92bc-caa7-435a-9ada-e66ad4699e60"
      },
      "source": [
        "# Print number of connections per node\n",
        "for node in [1, 2, 3]:\n",
        "    print(f'Number of connections for node {node} : {np.where(data.edge_index[0].numpy() == node)[0]}')"
      ],
      "execution_count": 26,
      "outputs": [
        {
          "output_type": "stream",
          "text": [
            "Number of connections for node 1 : [3 4 5]\n",
            "Number of connections for node 2 : [ 6  7  8  9 10]\n",
            "Number of connections for node 3 : [11]\n"
          ],
          "name": "stdout"
        }
      ]
    },
    {
      "cell_type": "markdown",
      "metadata": {
        "id": "LBpaiPGr_iG8"
      },
      "source": [
        "So, if you see above, the node 1 is connected with 3 nodes; the node 2 with 5 nodes; and the node 3 with one node. Thus, we can confirm that the majory of connections of **A** will be set to 0 - being **A** a sparse matrix."
      ]
    },
    {
      "cell_type": "markdown",
      "metadata": {
        "id": "ap7MeZ_W_U3t"
      },
      "source": [
        "\n",
        "> **Remember:** The diagonal of **A** will always be full of zeros before adding the self-loops (identity matrix)."
      ]
    },
    {
      "cell_type": "markdown",
      "metadata": {
        "id": "GECElY4Q01OF"
      },
      "source": [
        "#### SPLIT\n",
        "If we look at *Planetoid class* [documentation](https://pytorch-geometric.readthedocs.io/en/latest/_modules/torch_geometric/datasets/planetoid.html#Planetoid) that corresponds to the dataset we are using, we will see that there is a **split** flag where we can decide the way the dataset should be splitted. The library provides us three different ways to do it, as it is explained in [docs](https://pytorch-geometric.readthedocs.io/en/latest/_modules/torch_geometric/datasets/planetoid.html#Planetoid):\n",
        "\n",
        "\n",
        "* \"public\" : the split will be the public fixed split from the \"Revisiting Semi-Supervised Learning with Graph Embeddings\" [paper](https://arxiv.org/abs/1603.08861).\n",
        "\n",
        "* \"full\": all nodes except those in the validation and test sets will be used for training, as in the \"FastGCN: Fast Learning with Graph Convolutional Networks via Importance Sampling\" [paper](https://arxiv.org/abs/1801.10247).\n",
        "\n",
        "* \"random\": train, validation, and test sets will be randomly generated, according to `num_train_per_class`, `num_val` and `num_test`. \n",
        "\n",
        "\n",
        "The default value of the split is the *public* one and so what the dataset returns are three different masks: one for training, one for validation and one for test. Each of the mask will have a true those indices selected for either training, validation or test.\n",
        "\n"
      ]
    },
    {
      "cell_type": "code",
      "metadata": {
        "id": "BYfeUH6UgDkY",
        "colab": {
          "base_uri": "https://localhost:8080/"
        },
        "outputId": "0997fe93-9979-4202-bb38-b61ed9936566"
      },
      "source": [
        "# Print the mask for training set\n",
        "data.train_mask"
      ],
      "execution_count": 27,
      "outputs": [
        {
          "output_type": "execute_result",
          "data": {
            "text/plain": [
              "tensor([ True,  True,  True,  ..., False, False, False])"
            ]
          },
          "metadata": {
            "tags": []
          },
          "execution_count": 27
        }
      ]
    },
    {
      "cell_type": "code",
      "metadata": {
        "id": "HVb3Sl4x1cOV",
        "colab": {
          "base_uri": "https://localhost:8080/"
        },
        "outputId": "5a4efe23-1d30-469e-8edd-d4e5131e1595"
      },
      "source": [
        "# Check training labels\n",
        "data.y[data.train_mask]"
      ],
      "execution_count": 28,
      "outputs": [
        {
          "output_type": "execute_result",
          "data": {
            "text/plain": [
              "tensor([3, 4, 4, 0, 3, 2, 0, 3, 3, 2, 0, 0, 4, 3, 3, 3, 2, 3, 1, 3, 5, 3, 4, 6,\n",
              "        3, 3, 6, 3, 2, 4, 3, 6, 0, 4, 2, 0, 1, 5, 4, 4, 3, 6, 6, 4, 3, 3, 2, 5,\n",
              "        3, 4, 5, 3, 0, 2, 1, 4, 6, 3, 2, 2, 0, 0, 0, 4, 2, 0, 4, 5, 2, 6, 5, 2,\n",
              "        2, 2, 0, 4, 5, 6, 4, 0, 0, 0, 4, 2, 4, 1, 4, 6, 0, 4, 2, 4, 6, 6, 0, 0,\n",
              "        6, 5, 0, 6, 0, 2, 1, 1, 1, 2, 6, 5, 6, 1, 2, 2, 1, 5, 5, 5, 6, 5, 6, 5,\n",
              "        5, 1, 6, 6, 1, 5, 1, 6, 5, 5, 5, 1, 5, 1, 1, 1, 1, 1, 1, 1])"
            ]
          },
          "metadata": {
            "tags": []
          },
          "execution_count": 28
        }
      ]
    },
    {
      "cell_type": "markdown",
      "metadata": {
        "id": "bfhomE2H__Ap"
      },
      "source": [
        "\n",
        "We will let it set as the default option, which refers to the public split on their paper **\"Revisiting Semi-Supervised Learning with Graph Embeddings\"**. It consists in randomly sample 20 instances for each class as labeled data (20*7 = 140) and then evaluate it on 1000 instances as test data. The rest of data will be used for validation as unlabeled data. "
      ]
    },
    {
      "cell_type": "code",
      "metadata": {
        "id": "90kGhNdTmqQb",
        "colab": {
          "base_uri": "https://localhost:8080/"
        },
        "outputId": "c24a00f4-50b6-4a89-f05c-385c699b3112"
      },
      "source": [
        "# Check how many labels we have\n",
        "\n",
        "len(data.y)"
      ],
      "execution_count": 29,
      "outputs": [
        {
          "output_type": "execute_result",
          "data": {
            "text/plain": [
              "2708"
            ]
          },
          "metadata": {
            "tags": []
          },
          "execution_count": 29
        }
      ]
    },
    {
      "cell_type": "code",
      "metadata": {
        "id": "3Ugfw25_mubd",
        "colab": {
          "base_uri": "https://localhost:8080/"
        },
        "outputId": "3757b35f-da25-418f-c150-fdb0589f48bc"
      },
      "source": [
        "# Print lenght of training, val and test samples\n",
        "print(len(data.y[data.train_mask]), len(data.y[data.val_mask]), len(data.y[data.test_mask]))"
      ],
      "execution_count": 30,
      "outputs": [
        {
          "output_type": "stream",
          "text": [
            "140 500 1000\n"
          ],
          "name": "stdout"
        }
      ]
    },
    {
      "cell_type": "markdown",
      "metadata": {
        "id": "8awPQKjK2MT4"
      },
      "source": [
        "In case you did not notice, we imported *GCNConv class* above and you can look at it's documentation [here](https://pytorch-geometric.readthedocs.io/en/latest/modules/nn.html?highlight=GCNConv#torch_geometric.nn.conv.GCNConv). **GCNConv** implements the GCN operation we explained in the slides, which is basically a graph convolutional layer. To build the network, we will use two GCN layers thus combining them with some activation functions and dropout regularization. In the end, we will use a *log_softmax* function to get the class prediction probabilities. \n",
        "\n",
        "\n",
        "You can read the documentation for better understanding how this class works and what it is already implementing."
      ]
    },
    {
      "cell_type": "code",
      "metadata": {
        "id": "8e_8voTGESdz"
      },
      "source": [
        "# Build GCN model\n",
        "#############################\n",
        "# Exercice 4: Build two GCNConv layers that go from:\n",
        "#             1. the number of features to hidden dimension\n",
        "#             2. hidden dimension to number of classes\n",
        "# Set cached = True for both layers\n",
        "#############################\n",
        "\n",
        "class GCN_network(torch.nn.Module):\n",
        "    def __init__(self, num_features, num_classes, hidden_dim=16):\n",
        "        super(GCN_network, self).__init__()\n",
        "        self.conv1 = GCNConv(num_features, hidden_dim, cached=True, normalize = True)\n",
        "        self.conv2 = GCNConv(hidden_dim, num_classes, cached=True, normalize = True)\n",
        "        \n",
        "    def forward(self, data):\n",
        "        x, edge_index, edge_weight = data.x, data.edge_index, data.edge_attr\n",
        "        \n",
        "        x = F.relu(self.conv1(x, edge_index, edge_weight))\n",
        "        # DEFAULT DO = 0.5\n",
        "        x = F.dropout(x, training=self.training)\n",
        "        x = self.conv2(x, edge_index, edge_weight)\n",
        "\n",
        "        return F.log_softmax(x, dim=1)"
      ],
      "execution_count": 40,
      "outputs": []
    },
    {
      "cell_type": "markdown",
      "metadata": {
        "id": "1FUcvcnB3Lnr"
      },
      "source": [
        "Now we will declare the network as well as the optimizer with the needed parameters."
      ]
    },
    {
      "cell_type": "code",
      "metadata": {
        "id": "LesstYSVEC2_"
      },
      "source": [
        "# Declare model and optimizer. Also, move data to device.\n",
        "\n",
        "model = GCN_network(dataset.num_features, dataset.num_classes).to(device)\n",
        "data = data.to(device) \n",
        "optimizer = torch.optim.Adam(model.parameters(), lr=0.01)"
      ],
      "execution_count": 41,
      "outputs": []
    },
    {
      "cell_type": "markdown",
      "metadata": {
        "id": "un0-wk92AYJ6"
      },
      "source": [
        "In Graphs, we do not have three different datasets (three different graphs). However, we have one entire graph and then the labels are boolean masks which allow us to select the nodes. Thus, the way to compute the predictions will be to predict the whole graph and select the indexes that we want either for train, val or test depending on the situation."
      ]
    },
    {
      "cell_type": "code",
      "metadata": {
        "id": "__j43_Uh45ew",
        "colab": {
          "base_uri": "https://localhost:8080/"
        },
        "outputId": "31254d78-742d-4fcb-8d34-15fefabd579f"
      },
      "source": [
        "# Predict for all data and check shape\n",
        "\n",
        "entire_graph_pred = model(data)\n",
        "entire_graph_pred.shape"
      ],
      "execution_count": 42,
      "outputs": [
        {
          "output_type": "execute_result",
          "data": {
            "text/plain": [
              "torch.Size([2708, 7])"
            ]
          },
          "metadata": {
            "tags": []
          },
          "execution_count": 42
        }
      ]
    },
    {
      "cell_type": "code",
      "metadata": {
        "id": "JuaRkjEL5Yp-",
        "colab": {
          "base_uri": "https://localhost:8080/"
        },
        "outputId": "7d5de8e0-c518-414c-a889-fa04ce9fbcf2"
      },
      "source": [
        "# Select just training set predictions\n",
        "\n",
        "entire_graph_pred[data.train_mask].shape"
      ],
      "execution_count": 43,
      "outputs": [
        {
          "output_type": "execute_result",
          "data": {
            "text/plain": [
              "torch.Size([140, 7])"
            ]
          },
          "metadata": {
            "tags": []
          },
          "execution_count": 43
        }
      ]
    },
    {
      "cell_type": "markdown",
      "metadata": {
        "id": "t8yApM3FA0vb"
      },
      "source": [
        "Now we proceed to build the **train** and **validation** functions for training the network and evaluating it. Besides, we will also build the **test** function for performing inference with **accuracy** metric in each of the sets."
      ]
    },
    {
      "cell_type": "code",
      "metadata": {
        "id": "xEMttI1YEms4"
      },
      "source": [
        "# Write code for tranining function\n",
        "\n",
        "def train():\n",
        "    model.train()\n",
        "    optimizer.zero_grad()\n",
        "    train_pred = model(data)[data.train_mask]\n",
        "    train_labels = data.y[data.train_mask]\n",
        "\n",
        "    train_loss = F.nll_loss(train_pred, train_labels)\n",
        "    train_loss.backward()\n",
        "    tbc.save_value('loss/train', 'train_loss', epoch, train_loss.item())\n",
        "    optimizer.step()"
      ],
      "execution_count": 44,
      "outputs": []
    },
    {
      "cell_type": "code",
      "metadata": {
        "id": "-ajSJtW06_rR"
      },
      "source": [
        "# Write code for validation function\n",
        "\n",
        "@torch.no_grad()\n",
        "def validation():\n",
        "    model.eval()\n",
        "    #############################\n",
        "    # Exercice 5: Take the validation indices of the entire graph predictions\n",
        "    #############################\n",
        "    \n",
        "    val_pred = model(data)[data.val_mask]\n",
        "    val_labels = data.y[data.val_mask]\n",
        "\n",
        "    val_loss = F.nll_loss(val_pred, val_labels)\n",
        "    tbc.save_value('loss/val', 'val_loss', epoch, val_loss.item())\n"
      ],
      "execution_count": 45,
      "outputs": []
    },
    {
      "cell_type": "code",
      "metadata": {
        "id": "RZ0alfIpEvg6"
      },
      "source": [
        "# Write code for evaluation function\n",
        "@torch.no_grad()\n",
        "def test():\n",
        "    model.eval()\n",
        "    logits = model(data)\n",
        "    accs = []\n",
        "    for _, mask in data('train_mask', 'val_mask', 'test_mask'):\n",
        "\n",
        "        pred = logits[mask].max(1)[1]\n",
        "        acc = pred.eq(data.y[mask]).sum().item() / mask.sum().item()\n",
        "        accs.append(acc)\n",
        "    return accs"
      ],
      "execution_count": 46,
      "outputs": []
    },
    {
      "cell_type": "markdown",
      "metadata": {
        "id": "WtTDxTuHBJvc"
      },
      "source": [
        "As the last stage, we will write the code for the entire workflow for 300 epochs.\n",
        "\n",
        "1. Training\n",
        "2. Validating\n",
        "3. Inference"
      ]
    },
    {
      "cell_type": "code",
      "metadata": {
        "id": "wJ8tmCeXFGEa",
        "colab": {
          "base_uri": "https://localhost:8080/"
        },
        "outputId": "40e050f6-1990-459e-f1b7-1202024c5ef3"
      },
      "source": [
        "best_val_acc = test_acc = 0\n",
        "for epoch in range(1, 301):\n",
        "    train()\n",
        "    validation()\n",
        "    train_acc, val_acc, tmp_test_acc = test()\n",
        "    if val_acc > best_val_acc:\n",
        "        best_val_acc = val_acc\n",
        "        test_acc = tmp_test_acc\n",
        "    log = 'Epoch: {:03d}, Train: {:.4f}, Val: {:.4f}, Test: {:.4f}'\n",
        "\n",
        "    tbc.save_value('acc/train','train_acc', epoch, train_acc)\n",
        "    tbc.save_value('acc/val','val_acc', epoch, best_val_acc)\n",
        "    tbc.save_value('acc/test','test_acc', epoch, test_acc)\n",
        "\n",
        "    print(log.format(epoch, train_acc, best_val_acc, test_acc))"
      ],
      "execution_count": 47,
      "outputs": [
        {
          "output_type": "stream",
          "text": [
            "WARNING:tensorflow:From /usr/local/lib/python3.6/dist-packages/tensorboardcolab/core.py:49: The name tf.summary.FileWriter is deprecated. Please use tf.compat.v1.summary.FileWriter instead.\n",
            "\n",
            "WARNING:tensorflow:From /usr/local/lib/python3.6/dist-packages/tensorboardcolab/core.py:101: The name tf.Summary is deprecated. Please use tf.compat.v1.Summary instead.\n",
            "\n",
            "Epoch: 001, Train: 0.3571, Val: 0.2400, Test: 0.2220\n",
            "Epoch: 002, Train: 0.6500, Val: 0.4500, Test: 0.4840\n",
            "Epoch: 003, Train: 0.8929, Val: 0.6800, Test: 0.7050\n",
            "Epoch: 004, Train: 0.9286, Val: 0.6800, Test: 0.7050\n",
            "Epoch: 005, Train: 0.8643, Val: 0.6800, Test: 0.7050\n",
            "Epoch: 006, Train: 0.8857, Val: 0.6800, Test: 0.7050\n",
            "Epoch: 007, Train: 0.9286, Val: 0.6800, Test: 0.7050\n",
            "Epoch: 008, Train: 0.9643, Val: 0.6900, Test: 0.7020\n",
            "Epoch: 009, Train: 0.9571, Val: 0.7180, Test: 0.7170\n",
            "Epoch: 010, Train: 0.9571, Val: 0.7200, Test: 0.7260\n",
            "Epoch: 011, Train: 0.9643, Val: 0.7200, Test: 0.7260\n",
            "Epoch: 012, Train: 0.9643, Val: 0.7220, Test: 0.7320\n",
            "Epoch: 013, Train: 0.9643, Val: 0.7280, Test: 0.7350\n",
            "Epoch: 014, Train: 0.9643, Val: 0.7320, Test: 0.7460\n",
            "Epoch: 015, Train: 0.9714, Val: 0.7420, Test: 0.7650\n",
            "Epoch: 016, Train: 0.9714, Val: 0.7540, Test: 0.7650\n",
            "Epoch: 017, Train: 0.9714, Val: 0.7540, Test: 0.7650\n",
            "Epoch: 018, Train: 0.9786, Val: 0.7540, Test: 0.7650\n",
            "Epoch: 019, Train: 0.9786, Val: 0.7540, Test: 0.7650\n",
            "Epoch: 020, Train: 0.9786, Val: 0.7540, Test: 0.7650\n",
            "Epoch: 021, Train: 0.9786, Val: 0.7540, Test: 0.7650\n",
            "Epoch: 022, Train: 0.9786, Val: 0.7540, Test: 0.7650\n",
            "Epoch: 023, Train: 0.9786, Val: 0.7540, Test: 0.7650\n",
            "Epoch: 024, Train: 0.9786, Val: 0.7540, Test: 0.7650\n",
            "Epoch: 025, Train: 0.9786, Val: 0.7560, Test: 0.7720\n",
            "Epoch: 026, Train: 0.9786, Val: 0.7560, Test: 0.7720\n",
            "Epoch: 027, Train: 0.9857, Val: 0.7620, Test: 0.7750\n",
            "Epoch: 028, Train: 0.9857, Val: 0.7620, Test: 0.7750\n",
            "Epoch: 029, Train: 0.9857, Val: 0.7640, Test: 0.7760\n",
            "Epoch: 030, Train: 0.9857, Val: 0.7660, Test: 0.7780\n",
            "Epoch: 031, Train: 0.9857, Val: 0.7660, Test: 0.7780\n",
            "Epoch: 032, Train: 0.9857, Val: 0.7660, Test: 0.7780\n",
            "Epoch: 033, Train: 0.9857, Val: 0.7660, Test: 0.7780\n",
            "Epoch: 034, Train: 0.9857, Val: 0.7660, Test: 0.7780\n",
            "Epoch: 035, Train: 0.9786, Val: 0.7660, Test: 0.7780\n",
            "Epoch: 036, Train: 0.9857, Val: 0.7660, Test: 0.7780\n",
            "Epoch: 037, Train: 0.9857, Val: 0.7660, Test: 0.7780\n",
            "Epoch: 038, Train: 0.9857, Val: 0.7660, Test: 0.7780\n",
            "Epoch: 039, Train: 0.9857, Val: 0.7680, Test: 0.7800\n",
            "Epoch: 040, Train: 0.9857, Val: 0.7720, Test: 0.7830\n",
            "Epoch: 041, Train: 0.9857, Val: 0.7740, Test: 0.7840\n",
            "Epoch: 042, Train: 0.9857, Val: 0.7740, Test: 0.7840\n",
            "Epoch: 043, Train: 0.9857, Val: 0.7740, Test: 0.7840\n",
            "Epoch: 044, Train: 0.9857, Val: 0.7740, Test: 0.7840\n",
            "Epoch: 045, Train: 0.9857, Val: 0.7760, Test: 0.7830\n",
            "Epoch: 046, Train: 0.9857, Val: 0.7760, Test: 0.7830\n",
            "Epoch: 047, Train: 0.9857, Val: 0.7760, Test: 0.7830\n",
            "Epoch: 048, Train: 0.9857, Val: 0.7760, Test: 0.7830\n",
            "Epoch: 049, Train: 0.9857, Val: 0.7760, Test: 0.7830\n",
            "Epoch: 050, Train: 0.9857, Val: 0.7760, Test: 0.7830\n",
            "Epoch: 051, Train: 0.9857, Val: 0.7760, Test: 0.7830\n",
            "Epoch: 052, Train: 0.9857, Val: 0.7760, Test: 0.7830\n",
            "Epoch: 053, Train: 0.9857, Val: 0.7760, Test: 0.7830\n",
            "Epoch: 054, Train: 0.9857, Val: 0.7760, Test: 0.7830\n",
            "Epoch: 055, Train: 0.9857, Val: 0.7760, Test: 0.7830\n",
            "Epoch: 056, Train: 0.9857, Val: 0.7760, Test: 0.7830\n",
            "Epoch: 057, Train: 0.9857, Val: 0.7760, Test: 0.7830\n",
            "Epoch: 058, Train: 0.9857, Val: 0.7760, Test: 0.7830\n",
            "Epoch: 059, Train: 0.9857, Val: 0.7760, Test: 0.7830\n",
            "Epoch: 060, Train: 0.9857, Val: 0.7760, Test: 0.7830\n",
            "Epoch: 061, Train: 0.9857, Val: 0.7780, Test: 0.7870\n",
            "Epoch: 062, Train: 0.9857, Val: 0.7800, Test: 0.7920\n",
            "Epoch: 063, Train: 0.9857, Val: 0.7800, Test: 0.7920\n",
            "Epoch: 064, Train: 0.9857, Val: 0.7800, Test: 0.7920\n",
            "Epoch: 065, Train: 0.9857, Val: 0.7800, Test: 0.7920\n",
            "Epoch: 066, Train: 0.9857, Val: 0.7800, Test: 0.7920\n",
            "Epoch: 067, Train: 0.9929, Val: 0.7800, Test: 0.7920\n",
            "Epoch: 068, Train: 0.9929, Val: 0.7800, Test: 0.7920\n",
            "Epoch: 069, Train: 0.9929, Val: 0.7820, Test: 0.7970\n",
            "Epoch: 070, Train: 0.9929, Val: 0.7820, Test: 0.7970\n",
            "Epoch: 071, Train: 0.9929, Val: 0.7820, Test: 0.7970\n",
            "Epoch: 072, Train: 0.9929, Val: 0.7820, Test: 0.7970\n",
            "Epoch: 073, Train: 0.9929, Val: 0.7820, Test: 0.7970\n",
            "Epoch: 074, Train: 0.9929, Val: 0.7820, Test: 0.7970\n",
            "Epoch: 075, Train: 0.9929, Val: 0.7820, Test: 0.7970\n",
            "Epoch: 076, Train: 0.9929, Val: 0.7820, Test: 0.7970\n",
            "Epoch: 077, Train: 0.9929, Val: 0.7820, Test: 0.7970\n",
            "Epoch: 078, Train: 0.9929, Val: 0.7820, Test: 0.7970\n",
            "Epoch: 079, Train: 0.9929, Val: 0.7820, Test: 0.7970\n",
            "Epoch: 080, Train: 0.9929, Val: 0.7820, Test: 0.7970\n",
            "Epoch: 081, Train: 0.9929, Val: 0.7820, Test: 0.7970\n",
            "Epoch: 082, Train: 0.9929, Val: 0.7820, Test: 0.7970\n",
            "Epoch: 083, Train: 0.9929, Val: 0.7820, Test: 0.7970\n",
            "Epoch: 084, Train: 0.9929, Val: 0.7820, Test: 0.7970\n",
            "Epoch: 085, Train: 0.9929, Val: 0.7820, Test: 0.7970\n",
            "Epoch: 086, Train: 0.9929, Val: 0.7820, Test: 0.7970\n",
            "Epoch: 087, Train: 0.9929, Val: 0.7820, Test: 0.7970\n",
            "Epoch: 088, Train: 0.9929, Val: 0.7820, Test: 0.7970\n",
            "Epoch: 089, Train: 0.9929, Val: 0.7820, Test: 0.7970\n",
            "Epoch: 090, Train: 1.0000, Val: 0.7820, Test: 0.7970\n",
            "Epoch: 091, Train: 1.0000, Val: 0.7820, Test: 0.7970\n",
            "Epoch: 092, Train: 1.0000, Val: 0.7820, Test: 0.7970\n",
            "Epoch: 093, Train: 1.0000, Val: 0.7820, Test: 0.7970\n",
            "Epoch: 094, Train: 1.0000, Val: 0.7820, Test: 0.7970\n",
            "Epoch: 095, Train: 1.0000, Val: 0.7840, Test: 0.8010\n",
            "Epoch: 096, Train: 1.0000, Val: 0.7860, Test: 0.8010\n",
            "Epoch: 097, Train: 1.0000, Val: 0.7860, Test: 0.8010\n",
            "Epoch: 098, Train: 1.0000, Val: 0.7860, Test: 0.8010\n",
            "Epoch: 099, Train: 1.0000, Val: 0.7860, Test: 0.8010\n",
            "Epoch: 100, Train: 1.0000, Val: 0.7860, Test: 0.8010\n",
            "Epoch: 101, Train: 1.0000, Val: 0.7860, Test: 0.8010\n",
            "Epoch: 102, Train: 1.0000, Val: 0.7860, Test: 0.8010\n",
            "Epoch: 103, Train: 1.0000, Val: 0.7860, Test: 0.8010\n",
            "Epoch: 104, Train: 1.0000, Val: 0.7860, Test: 0.8010\n",
            "Epoch: 105, Train: 1.0000, Val: 0.7860, Test: 0.8010\n",
            "Epoch: 106, Train: 1.0000, Val: 0.7860, Test: 0.8010\n",
            "Epoch: 107, Train: 1.0000, Val: 0.7860, Test: 0.8010\n",
            "Epoch: 108, Train: 1.0000, Val: 0.7860, Test: 0.8010\n",
            "Epoch: 109, Train: 1.0000, Val: 0.7860, Test: 0.8010\n",
            "Epoch: 110, Train: 1.0000, Val: 0.7860, Test: 0.8010\n",
            "Epoch: 111, Train: 1.0000, Val: 0.7860, Test: 0.8010\n",
            "Epoch: 112, Train: 1.0000, Val: 0.7860, Test: 0.8010\n",
            "Epoch: 113, Train: 1.0000, Val: 0.7860, Test: 0.8010\n",
            "Epoch: 114, Train: 1.0000, Val: 0.7860, Test: 0.8010\n",
            "Epoch: 115, Train: 1.0000, Val: 0.7860, Test: 0.8010\n",
            "Epoch: 116, Train: 1.0000, Val: 0.7860, Test: 0.8010\n",
            "Epoch: 117, Train: 1.0000, Val: 0.7860, Test: 0.8010\n",
            "Epoch: 118, Train: 1.0000, Val: 0.7860, Test: 0.8010\n",
            "Epoch: 119, Train: 1.0000, Val: 0.7860, Test: 0.8010\n",
            "Epoch: 120, Train: 1.0000, Val: 0.7860, Test: 0.8010\n",
            "Epoch: 121, Train: 1.0000, Val: 0.7860, Test: 0.8010\n",
            "Epoch: 122, Train: 1.0000, Val: 0.7860, Test: 0.8010\n",
            "Epoch: 123, Train: 1.0000, Val: 0.7860, Test: 0.8010\n",
            "Epoch: 124, Train: 1.0000, Val: 0.7860, Test: 0.8010\n",
            "Epoch: 125, Train: 1.0000, Val: 0.7860, Test: 0.8010\n",
            "Epoch: 126, Train: 1.0000, Val: 0.7860, Test: 0.8010\n",
            "Epoch: 127, Train: 1.0000, Val: 0.7860, Test: 0.8010\n",
            "Epoch: 128, Train: 1.0000, Val: 0.7860, Test: 0.8010\n",
            "Epoch: 129, Train: 1.0000, Val: 0.7860, Test: 0.8010\n",
            "Epoch: 130, Train: 1.0000, Val: 0.7860, Test: 0.8010\n",
            "Epoch: 131, Train: 1.0000, Val: 0.7860, Test: 0.8010\n",
            "Epoch: 132, Train: 1.0000, Val: 0.7860, Test: 0.8010\n",
            "Epoch: 133, Train: 1.0000, Val: 0.7860, Test: 0.8010\n",
            "Epoch: 134, Train: 1.0000, Val: 0.7860, Test: 0.8010\n",
            "Epoch: 135, Train: 1.0000, Val: 0.7860, Test: 0.8010\n",
            "Epoch: 136, Train: 1.0000, Val: 0.7860, Test: 0.8010\n",
            "Epoch: 137, Train: 1.0000, Val: 0.7860, Test: 0.8010\n",
            "Epoch: 138, Train: 1.0000, Val: 0.7860, Test: 0.8010\n",
            "Epoch: 139, Train: 1.0000, Val: 0.7860, Test: 0.8010\n",
            "Epoch: 140, Train: 1.0000, Val: 0.7860, Test: 0.8010\n",
            "Epoch: 141, Train: 1.0000, Val: 0.7860, Test: 0.8010\n",
            "Epoch: 142, Train: 1.0000, Val: 0.7860, Test: 0.8010\n",
            "Epoch: 143, Train: 1.0000, Val: 0.7860, Test: 0.8010\n",
            "Epoch: 144, Train: 1.0000, Val: 0.7860, Test: 0.8010\n",
            "Epoch: 145, Train: 1.0000, Val: 0.7860, Test: 0.8010\n",
            "Epoch: 146, Train: 1.0000, Val: 0.7860, Test: 0.8010\n",
            "Epoch: 147, Train: 1.0000, Val: 0.7860, Test: 0.8010\n",
            "Epoch: 148, Train: 1.0000, Val: 0.7860, Test: 0.8010\n",
            "Epoch: 149, Train: 1.0000, Val: 0.7860, Test: 0.8010\n",
            "Epoch: 150, Train: 1.0000, Val: 0.7860, Test: 0.8010\n",
            "Epoch: 151, Train: 1.0000, Val: 0.7860, Test: 0.8010\n",
            "Epoch: 152, Train: 1.0000, Val: 0.7860, Test: 0.8010\n",
            "Epoch: 153, Train: 1.0000, Val: 0.7860, Test: 0.8010\n",
            "Epoch: 154, Train: 1.0000, Val: 0.7860, Test: 0.8010\n",
            "Epoch: 155, Train: 1.0000, Val: 0.7860, Test: 0.8010\n",
            "Epoch: 156, Train: 1.0000, Val: 0.7860, Test: 0.8010\n",
            "Epoch: 157, Train: 1.0000, Val: 0.7860, Test: 0.8010\n",
            "Epoch: 158, Train: 1.0000, Val: 0.7860, Test: 0.8010\n",
            "Epoch: 159, Train: 1.0000, Val: 0.7860, Test: 0.8010\n",
            "Epoch: 160, Train: 1.0000, Val: 0.7860, Test: 0.8010\n",
            "Epoch: 161, Train: 1.0000, Val: 0.7860, Test: 0.8010\n",
            "Epoch: 162, Train: 1.0000, Val: 0.7860, Test: 0.8010\n",
            "Epoch: 163, Train: 1.0000, Val: 0.7860, Test: 0.8010\n",
            "Epoch: 164, Train: 1.0000, Val: 0.7860, Test: 0.8010\n",
            "Epoch: 165, Train: 1.0000, Val: 0.7860, Test: 0.8010\n",
            "Epoch: 166, Train: 1.0000, Val: 0.7860, Test: 0.8010\n",
            "Epoch: 167, Train: 1.0000, Val: 0.7860, Test: 0.8010\n",
            "Epoch: 168, Train: 1.0000, Val: 0.7860, Test: 0.8010\n",
            "Epoch: 169, Train: 1.0000, Val: 0.7860, Test: 0.8010\n",
            "Epoch: 170, Train: 1.0000, Val: 0.7860, Test: 0.8010\n",
            "Epoch: 171, Train: 1.0000, Val: 0.7860, Test: 0.8010\n",
            "Epoch: 172, Train: 1.0000, Val: 0.7860, Test: 0.8010\n",
            "Epoch: 173, Train: 1.0000, Val: 0.7860, Test: 0.8010\n",
            "Epoch: 174, Train: 1.0000, Val: 0.7860, Test: 0.8010\n",
            "Epoch: 175, Train: 1.0000, Val: 0.7860, Test: 0.8010\n",
            "Epoch: 176, Train: 1.0000, Val: 0.7860, Test: 0.8010\n",
            "Epoch: 177, Train: 1.0000, Val: 0.7860, Test: 0.8010\n",
            "Epoch: 178, Train: 1.0000, Val: 0.7860, Test: 0.8010\n",
            "Epoch: 179, Train: 1.0000, Val: 0.7860, Test: 0.8010\n",
            "Epoch: 180, Train: 1.0000, Val: 0.7860, Test: 0.8010\n",
            "Epoch: 181, Train: 1.0000, Val: 0.7860, Test: 0.8010\n",
            "Epoch: 182, Train: 1.0000, Val: 0.7860, Test: 0.8010\n",
            "Epoch: 183, Train: 1.0000, Val: 0.7860, Test: 0.8010\n",
            "Epoch: 184, Train: 1.0000, Val: 0.7860, Test: 0.8010\n",
            "Epoch: 185, Train: 1.0000, Val: 0.7860, Test: 0.8010\n",
            "Epoch: 186, Train: 1.0000, Val: 0.7860, Test: 0.8010\n",
            "Epoch: 187, Train: 1.0000, Val: 0.7860, Test: 0.8010\n",
            "Epoch: 188, Train: 1.0000, Val: 0.7860, Test: 0.8010\n",
            "Epoch: 189, Train: 1.0000, Val: 0.7860, Test: 0.8010\n",
            "Epoch: 190, Train: 1.0000, Val: 0.7860, Test: 0.8010\n",
            "Epoch: 191, Train: 1.0000, Val: 0.7860, Test: 0.8010\n",
            "Epoch: 192, Train: 1.0000, Val: 0.7860, Test: 0.8010\n",
            "Epoch: 193, Train: 1.0000, Val: 0.7860, Test: 0.8010\n",
            "Epoch: 194, Train: 1.0000, Val: 0.7860, Test: 0.8010\n",
            "Epoch: 195, Train: 1.0000, Val: 0.7860, Test: 0.8010\n",
            "Epoch: 196, Train: 1.0000, Val: 0.7860, Test: 0.8010\n",
            "Epoch: 197, Train: 1.0000, Val: 0.7860, Test: 0.8010\n",
            "Epoch: 198, Train: 1.0000, Val: 0.7860, Test: 0.8010\n",
            "Epoch: 199, Train: 1.0000, Val: 0.7860, Test: 0.8010\n",
            "Epoch: 200, Train: 1.0000, Val: 0.7860, Test: 0.8010\n",
            "Epoch: 201, Train: 1.0000, Val: 0.7860, Test: 0.8010\n",
            "Epoch: 202, Train: 1.0000, Val: 0.7860, Test: 0.8010\n",
            "Epoch: 203, Train: 1.0000, Val: 0.7860, Test: 0.8010\n",
            "Epoch: 204, Train: 1.0000, Val: 0.7860, Test: 0.8010\n",
            "Epoch: 205, Train: 1.0000, Val: 0.7860, Test: 0.8010\n",
            "Epoch: 206, Train: 1.0000, Val: 0.7860, Test: 0.8010\n",
            "Epoch: 207, Train: 1.0000, Val: 0.7860, Test: 0.8010\n",
            "Epoch: 208, Train: 1.0000, Val: 0.7860, Test: 0.8010\n",
            "Epoch: 209, Train: 1.0000, Val: 0.7860, Test: 0.8010\n",
            "Epoch: 210, Train: 1.0000, Val: 0.7860, Test: 0.8010\n",
            "Epoch: 211, Train: 1.0000, Val: 0.7860, Test: 0.8010\n",
            "Epoch: 212, Train: 1.0000, Val: 0.7860, Test: 0.8010\n",
            "Epoch: 213, Train: 1.0000, Val: 0.7860, Test: 0.8010\n",
            "Epoch: 214, Train: 1.0000, Val: 0.7860, Test: 0.8010\n",
            "Epoch: 215, Train: 1.0000, Val: 0.7860, Test: 0.8010\n",
            "Epoch: 216, Train: 1.0000, Val: 0.7860, Test: 0.8010\n",
            "Epoch: 217, Train: 1.0000, Val: 0.7860, Test: 0.8010\n",
            "Epoch: 218, Train: 1.0000, Val: 0.7860, Test: 0.8010\n",
            "Epoch: 219, Train: 1.0000, Val: 0.7860, Test: 0.8010\n",
            "Epoch: 220, Train: 1.0000, Val: 0.7860, Test: 0.8010\n",
            "Epoch: 221, Train: 1.0000, Val: 0.7860, Test: 0.8010\n",
            "Epoch: 222, Train: 1.0000, Val: 0.7860, Test: 0.8010\n",
            "Epoch: 223, Train: 1.0000, Val: 0.7860, Test: 0.8010\n",
            "Epoch: 224, Train: 1.0000, Val: 0.7860, Test: 0.8010\n",
            "Epoch: 225, Train: 1.0000, Val: 0.7860, Test: 0.8010\n",
            "Epoch: 226, Train: 1.0000, Val: 0.7860, Test: 0.8010\n",
            "Epoch: 227, Train: 1.0000, Val: 0.7860, Test: 0.8010\n",
            "Epoch: 228, Train: 1.0000, Val: 0.7860, Test: 0.8010\n",
            "Epoch: 229, Train: 1.0000, Val: 0.7860, Test: 0.8010\n",
            "Epoch: 230, Train: 1.0000, Val: 0.7860, Test: 0.8010\n",
            "Epoch: 231, Train: 1.0000, Val: 0.7860, Test: 0.8010\n",
            "Epoch: 232, Train: 1.0000, Val: 0.7860, Test: 0.8010\n",
            "Epoch: 233, Train: 1.0000, Val: 0.7860, Test: 0.8010\n",
            "Epoch: 234, Train: 1.0000, Val: 0.7860, Test: 0.8010\n",
            "Epoch: 235, Train: 1.0000, Val: 0.7860, Test: 0.8010\n",
            "Epoch: 236, Train: 1.0000, Val: 0.7860, Test: 0.8010\n",
            "Epoch: 237, Train: 1.0000, Val: 0.7860, Test: 0.8010\n",
            "Epoch: 238, Train: 1.0000, Val: 0.7860, Test: 0.8010\n",
            "Epoch: 239, Train: 1.0000, Val: 0.7860, Test: 0.8010\n",
            "Epoch: 240, Train: 1.0000, Val: 0.7860, Test: 0.8010\n",
            "Epoch: 241, Train: 1.0000, Val: 0.7860, Test: 0.8010\n",
            "Epoch: 242, Train: 1.0000, Val: 0.7860, Test: 0.8010\n",
            "Epoch: 243, Train: 1.0000, Val: 0.7860, Test: 0.8010\n",
            "Epoch: 244, Train: 1.0000, Val: 0.7860, Test: 0.8010\n",
            "Epoch: 245, Train: 1.0000, Val: 0.7860, Test: 0.8010\n",
            "Epoch: 246, Train: 1.0000, Val: 0.7860, Test: 0.8010\n",
            "Epoch: 247, Train: 1.0000, Val: 0.7860, Test: 0.8010\n",
            "Epoch: 248, Train: 1.0000, Val: 0.7860, Test: 0.8010\n",
            "Epoch: 249, Train: 1.0000, Val: 0.7860, Test: 0.8010\n",
            "Epoch: 250, Train: 1.0000, Val: 0.7860, Test: 0.8010\n",
            "Epoch: 251, Train: 1.0000, Val: 0.7860, Test: 0.8010\n",
            "Epoch: 252, Train: 1.0000, Val: 0.7860, Test: 0.8010\n",
            "Epoch: 253, Train: 1.0000, Val: 0.7860, Test: 0.8010\n",
            "Epoch: 254, Train: 1.0000, Val: 0.7860, Test: 0.8010\n",
            "Epoch: 255, Train: 1.0000, Val: 0.7860, Test: 0.8010\n",
            "Epoch: 256, Train: 1.0000, Val: 0.7860, Test: 0.8010\n",
            "Epoch: 257, Train: 1.0000, Val: 0.7860, Test: 0.8010\n",
            "Epoch: 258, Train: 1.0000, Val: 0.7860, Test: 0.8010\n",
            "Epoch: 259, Train: 1.0000, Val: 0.7860, Test: 0.8010\n",
            "Epoch: 260, Train: 1.0000, Val: 0.7860, Test: 0.8010\n",
            "Epoch: 261, Train: 1.0000, Val: 0.7860, Test: 0.8010\n",
            "Epoch: 262, Train: 1.0000, Val: 0.7860, Test: 0.8010\n",
            "Epoch: 263, Train: 1.0000, Val: 0.7860, Test: 0.8010\n",
            "Epoch: 264, Train: 1.0000, Val: 0.7860, Test: 0.8010\n",
            "Epoch: 265, Train: 1.0000, Val: 0.7860, Test: 0.8010\n",
            "Epoch: 266, Train: 1.0000, Val: 0.7860, Test: 0.8010\n",
            "Epoch: 267, Train: 1.0000, Val: 0.7860, Test: 0.8010\n",
            "Epoch: 268, Train: 1.0000, Val: 0.7860, Test: 0.8010\n",
            "Epoch: 269, Train: 1.0000, Val: 0.7860, Test: 0.8010\n",
            "Epoch: 270, Train: 1.0000, Val: 0.7860, Test: 0.8010\n",
            "Epoch: 271, Train: 1.0000, Val: 0.7860, Test: 0.8010\n",
            "Epoch: 272, Train: 1.0000, Val: 0.7860, Test: 0.8010\n",
            "Epoch: 273, Train: 1.0000, Val: 0.7860, Test: 0.8010\n",
            "Epoch: 274, Train: 1.0000, Val: 0.7860, Test: 0.8010\n",
            "Epoch: 275, Train: 1.0000, Val: 0.7860, Test: 0.8010\n",
            "Epoch: 276, Train: 1.0000, Val: 0.7860, Test: 0.8010\n",
            "Epoch: 277, Train: 1.0000, Val: 0.7860, Test: 0.8010\n",
            "Epoch: 278, Train: 1.0000, Val: 0.7860, Test: 0.8010\n",
            "Epoch: 279, Train: 1.0000, Val: 0.7900, Test: 0.7870\n",
            "Epoch: 280, Train: 1.0000, Val: 0.7900, Test: 0.7870\n",
            "Epoch: 281, Train: 1.0000, Val: 0.7900, Test: 0.7870\n",
            "Epoch: 282, Train: 1.0000, Val: 0.7900, Test: 0.7870\n",
            "Epoch: 283, Train: 1.0000, Val: 0.7900, Test: 0.7870\n",
            "Epoch: 284, Train: 1.0000, Val: 0.7900, Test: 0.7870\n",
            "Epoch: 285, Train: 1.0000, Val: 0.7900, Test: 0.7870\n",
            "Epoch: 286, Train: 1.0000, Val: 0.7900, Test: 0.7870\n",
            "Epoch: 287, Train: 1.0000, Val: 0.7900, Test: 0.7870\n",
            "Epoch: 288, Train: 1.0000, Val: 0.7900, Test: 0.7870\n",
            "Epoch: 289, Train: 1.0000, Val: 0.7900, Test: 0.7870\n",
            "Epoch: 290, Train: 1.0000, Val: 0.7900, Test: 0.7870\n",
            "Epoch: 291, Train: 1.0000, Val: 0.7900, Test: 0.7870\n",
            "Epoch: 292, Train: 1.0000, Val: 0.7900, Test: 0.7870\n",
            "Epoch: 293, Train: 1.0000, Val: 0.7900, Test: 0.7870\n",
            "Epoch: 294, Train: 1.0000, Val: 0.7900, Test: 0.7870\n",
            "Epoch: 295, Train: 1.0000, Val: 0.7900, Test: 0.7870\n",
            "Epoch: 296, Train: 1.0000, Val: 0.7900, Test: 0.7870\n",
            "Epoch: 297, Train: 1.0000, Val: 0.7900, Test: 0.7870\n",
            "Epoch: 298, Train: 1.0000, Val: 0.7900, Test: 0.7870\n",
            "Epoch: 299, Train: 1.0000, Val: 0.7900, Test: 0.7870\n",
            "Epoch: 300, Train: 1.0000, Val: 0.7900, Test: 0.7870\n"
          ],
          "name": "stdout"
        }
      ]
    },
    {
      "cell_type": "markdown",
      "metadata": {
        "id": "vEIbC7W0BqXe"
      },
      "source": [
        "Now we have trained the network and evaluated it! You can go to the Tensorboard link generated above and you will be able to see that actually, we did not need as much epochs because the model is overfitting in approximately epoch 90 (validation loss stops going down). Even though, we have achieved a pretty good performance on test accuracy (0.7910). \n"
      ]
    }
  ]
}